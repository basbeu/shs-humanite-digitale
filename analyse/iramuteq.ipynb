{
 "cells": [
  {
   "cell_type": "markdown",
   "metadata": {},
   "source": [
    "# Iramuteq Export"
   ]
  },
  {
   "cell_type": "code",
   "execution_count": null,
   "metadata": {},
   "outputs": [],
   "source": [
    "# Python library imports\n",
    "%load_ext autoreload\n",
    "%autoreload 2\n",
    "\n",
    "import datetime\n",
    "import pandas as pd\n",
    "\n",
    "# print redirect\n",
    "from contextlib import redirect_stdout"
   ]
  },
  {
   "cell_type": "markdown",
   "metadata": {},
   "source": [
    "## Data Preparation"
   ]
  },
  {
   "cell_type": "code",
   "execution_count": null,
   "metadata": {},
   "outputs": [],
   "source": [
    "# Import\n",
    "df = pd.read_csv('../data/data.csv')\n",
    "\n",
    "# Select French/German\n",
    "df = df[df.journal != 'NZZ']"
   ]
  },
  {
   "cell_type": "code",
   "execution_count": null,
   "metadata": {},
   "outputs": [],
   "source": [
    "# Select articles\n",
    "##Date\n",
    "start_date = '1914-08-00'\n",
    "end_date = '1914-10-00'\n",
    "\n",
    "##Search criteria\n",
    "keywords = [\n",
    "        'Belgique'\n",
    "]\n",
    "filters =  pd.Series([True for i in range(0, len(df))])\n",
    "for keyword in keywords:\n",
    "    filters &= df.fulltext.str.contains(keyword)\n",
    "\n",
    "df_filtered = df[filters\n",
    "                & (df.date >= start_date)\n",
    "                & (df.date <= end_date)]"
   ]
  },
  {
   "cell_type": "markdown",
   "metadata": {},
   "source": [
    "## IramuteQ output"
   ]
  },
  {
   "cell_type": "code",
   "execution_count": null,
   "metadata": {},
   "outputs": [],
   "source": [
    "with open('./iramuteq/' + '_'.join(keywords)+start_date+'_'+end_date+'.txt', 'w+', encoding='utf-8') as f:\n",
    "    with redirect_stdout(f):\n",
    "        for index, row in df_filtered.iterrows():\n",
    "            date = datetime.datetime.strptime(row.date, '%Y-%m-%d').strftime(\"%d%m%Y\")\n",
    "            #print(f\"**** *{row.title} *{row.journal} *{row.date}\")\n",
    "            print(f\"**** *page_{row.page} *publi_{row.journal} *date_{date}\")\n",
    "            print(row.fulltext)"
   ]
  }
 ],
 "metadata": {
  "kernelspec": {
   "display_name": "Python 3",
   "language": "python",
   "name": "python3"
  },
  "language_info": {
   "codemirror_mode": {
    "name": "ipython",
    "version": 3
   },
   "file_extension": ".py",
   "mimetype": "text/x-python",
   "name": "python",
   "nbconvert_exporter": "python",
   "pygments_lexer": "ipython3",
   "version": "3.7.7"
  }
 },
 "nbformat": 4,
 "nbformat_minor": 4
}
