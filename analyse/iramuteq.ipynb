{
 "cells": [
  {
   "cell_type": "markdown",
   "metadata": {},
   "source": [
    "# Iramuteq Export"
   ]
  },
  {
   "cell_type": "code",
   "execution_count": 1,
   "metadata": {},
   "outputs": [],
   "source": [
    "# Python library imports\n",
    "%load_ext autoreload\n",
    "%autoreload 2\n",
    "\n",
    "import datetime\n",
    "import seaborn as sns\n",
    "import pandas as pd\n",
    "\n",
    "import matplotlib.pyplot as plt\n",
    "# print redirect\n",
    "from contextlib import redirect_stdout"
   ]
  },
  {
   "cell_type": "markdown",
   "metadata": {},
   "source": [
    "## Data Preparation"
   ]
  },
  {
   "cell_type": "code",
   "execution_count": 2,
   "metadata": {},
   "outputs": [],
   "source": [
    "# Import\n",
    "df = pd.read_csv('../data/data.csv')\n",
    "\n",
    "# Select French/German\n",
    "df = df[df.journal != 'NZZ'].reset_index()"
   ]
  },
  {
   "cell_type": "code",
   "execution_count": 16,
   "metadata": {},
   "outputs": [],
   "source": [
    "# Select articles\n",
    "##Date\n",
    "start_date = '1918-01-01'\n",
    "end_date = '1918-12-31'\n",
    "\n",
    "#start_date = '1914-07-28'\n",
    "#end_date = '1918-11-11'\n",
    "\n",
    "##Search criteria\n",
    "keywords = [\n",
    "        ' Wille ',' Wille,',' Wille.',' Wille:',' Wille;'\n",
    "]\n",
    "filters =  pd.Series([False for i in range(0, len(df))])\n",
    "for keyword in keywords:\n",
    "    filters |= df.fulltext.str.contains(keyword, regex=False)\n",
    "\n",
    "df_filtered = df[filters\n",
    "                & (df.date >= start_date)\n",
    "                & (df.date <= end_date)]"
   ]
  },
  {
   "cell_type": "markdown",
   "metadata": {},
   "source": [
    "## IramuteQ output"
   ]
  },
  {
   "cell_type": "code",
   "execution_count": 17,
   "metadata": {},
   "outputs": [],
   "source": [
    "with open('./iramuteq/' + 'Wille_'+start_date+'_'+end_date+'.txt', 'w+', encoding='utf-8') as f:\n",
    "    with redirect_stdout(f):\n",
    "        for index, row in df_filtered.iterrows():\n",
    "            date = datetime.datetime.strptime(row.date, '%Y-%m-%d').strftime(\"%d%m%Y\")\n",
    "            #print(f\"**** *{row.title} *{row.journal} *{row.date}\")\n",
    "            print(f\"**** *page_{row.page} *publi_{row.journal} *date_{date}\")\n",
    "            print(row.fulltext)"
   ]
  },
  {
   "cell_type": "code",
   "execution_count": 18,
   "metadata": {},
   "outputs": [
    {
     "data": {
      "text/plain": [
       "19"
      ]
     },
     "execution_count": 18,
     "metadata": {},
     "output_type": "execute_result"
    }
   ],
   "source": [
    "len(df_filtered)"
   ]
  },
  {
   "cell_type": "code",
   "execution_count": null,
   "metadata": {},
   "outputs": [],
   "source": [
    "len(df)"
   ]
  },
  {
   "cell_type": "code",
   "execution_count": 21,
   "metadata": {},
   "outputs": [],
   "source": [
    "years = ['1914','1915','1916','1917','1918']\n",
    "num_articles_old = [172,175,172,84,50]\n",
    "num_articles     = [39,121,50,32, 19]\n",
    "num_articles_de = [339, 477, 439, 159, 122]"
   ]
  },
  {
   "cell_type": "code",
   "execution_count": 22,
   "metadata": {},
   "outputs": [
    {
     "data": {
      "image/png": "[encoded data removed]",
      "text/plain": [
       "<Figure size 432x288 with 1 Axes>"
      ]
     },
     "metadata": {
      "needs_background": "light"
     },
     "output_type": "display_data"
    }
   ],
   "source": [
    "ax = sns.barplot(x=years, y=num_articles, color=\"orange\")\n",
    "ax.set_title(\"Articles mentionant \\\"Wille\\\" dans la presse romande\")\n",
    "ax.set_xlabel(\"Années\")\n",
    "ax.set_ylabel(\"Nombre d'articles\")\n",
    "plt.savefig(\"Wille.png\")\n",
    "plt.show()"
   ]
  },
  {
   "cell_type": "code",
   "execution_count": 35,
   "metadata": {},
   "outputs": [
    {
     "data": {
      "image/png": "[encoded data removed]",
      "text/plain": [
       "<Figure size 432x288 with 1 Axes>"
      ]
     },
     "metadata": {
      "needs_background": "light"
     },
     "output_type": "display_data"
    }
   ],
   "source": [
    "ax = sns.barplot(x=years, y=num_articles_de, color=\"orange\")\n",
    "ax.set_title(\"Pages mentionant \\\"Wille\\\" dans la NZZ\")\n",
    "ax.set_xlabel(\"Années\")\n",
    "ax.set_ylabel(\"Nombre d'articles\")\n",
    "plt.savefig(\"Wille_NZZ.png\")\n",
    "plt.show()"
   ]
  }
 ],
 "metadata": {
  "kernelspec": {
   "display_name": "Python 3",
   "language": "python",
   "name": "python3"
  },
  "language_info": {
   "codemirror_mode": {
    "name": "ipython",
    "version": 3
   },
   "file_extension": ".py",
   "mimetype": "text/x-python",
   "name": "python",
   "nbconvert_exporter": "python",
   "pygments_lexer": "ipython3",
   "version": "3.7.6"
  }
 },
 "nbformat": 4,
 "nbformat_minor": 4
}
