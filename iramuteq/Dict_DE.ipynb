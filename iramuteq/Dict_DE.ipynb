{
 "cells": [
  {
   "cell_type": "markdown",
   "metadata": {},
   "source": [
    "# Création d'un dictionnaire allemand pour Iramuteq\n",
    "\n",
    "Pour l'instant, il [n'existe que](http://www.iramuteq.org/dictionnaires) le dictionnaire par défaut français et les trois langues suivantes:\n",
    "- Néerlandais\n",
    "- Norvégien\n",
    "- Grec\n",
    "\n",
    "Le but étant d'en créer un allemand pour pouvoir utiliser les textes des journaux suisses-allemands"
   ]
  },
  {
   "cell_type": "markdown",
   "metadata": {},
   "source": [
    "## Etape 1: Récupérer une liste des mots allemands\n",
    "\n",
    "Suivant les instructions de ce lien: http://www.danielnaber.de/morphologie/\n",
    "\n",
    "1. Télécharger la version offline de [Language Tool](https://languagetool.org/)\n",
    "2. Télécharger les données du [Morphologie Lexikon](https://github.com/languagetool-org/german-pos-dict/releases)\n",
    "3. Extraire les données et \"Language Tool\"\n",
    "4. Adapter le chemin vers le jar de \"Lanugage Tool\" dans le fichier `export.sh` des données\n",
    "5. Run `export.sh` pour générer `dictionnary.dump`\n",
    "\n",
    "C'est un fichier avec des séparations de tab `\\t` avec les déclinaisons des mots et le mot principal sur chaque ligne (et des détails grammaticaux)"
   ]
  },
  {
   "cell_type": "code",
   "execution_count": 69,
   "metadata": {},
   "outputs": [],
   "source": [
    "PATH_TO_DATA = \"german-pos-dict-1.1/dictionary.dump\"\n",
    "file = open(PATH_TO_DATA, \"r\")\n",
    "words = file.readlines()\n",
    "file.close()"
   ]
  },
  {
   "cell_type": "markdown",
   "metadata": {},
   "source": [
    "Exemple:"
   ]
  },
  {
   "cell_type": "code",
   "execution_count": 70,
   "metadata": {},
   "outputs": [
    {
     "data": {
      "text/plain": [
       "['Abbruchreiferen', 'Abbruchreifere', 'SUB:NOM:PLU:FEM:ADJ\\n']"
      ]
     },
     "execution_count": 70,
     "metadata": {},
     "output_type": "execute_result"
    }
   ],
   "source": [
    "words[2000].split(\"\\t\")"
   ]
  },
  {
   "cell_type": "markdown",
   "metadata": {},
   "source": [
    "Catégories des mots allemands -> à remapper pour Iramuteq\n",
    "```\n",
    "'SUB': 1085004,\n",
    "'ADJ': 908956,\n",
    "'EIG': 15750,\n",
    "'VER': 281402,\n",
    "'ADV': 484,\n",
    "'KON': 81,\n",
    "'ABK': 58,\n",
    "'PRP': 119,\n",
    "'PA1': 988933,\n",
    "'ZUS': 152,\n",
    "'PA2': 965432,\n",
    "'INJ': 18,\n",
    "'ZAL': 32,\n",
    "'PRO': 754,\n",
    "'ART': 36,\n",
    "'NEG': 6\n",
    "```\n",
    "   \n",
    "Iramuteq utilise différentes catégorisations qui ne sont pas uniformisées dans les dicitonnaires des autres langues dispo donc je me base sur celui en français résupérés des fichier d'installation du programme."
   ]
  },
  {
   "cell_type": "code",
   "execution_count": 67,
   "metadata": {},
   "outputs": [
    {
     "data": {
      "text/plain": [
       "Counter({'aux': 85,\n",
       "         'pre': 80,\n",
       "         'nom': 43137,\n",
       "         'adv': 1615,\n",
       "         'ono': 233,\n",
       "         'ver': 60158,\n",
       "         'adj': 19636,\n",
       "         'adv_sup': 89,\n",
       "         'con': 31,\n",
       "         'nom_sup': 75,\n",
       "         'art_def': 9,\n",
       "         'adj_ind': 30,\n",
       "         'pro_rel': 16,\n",
       "         'pro_ind': 24,\n",
       "         'adj_sup': 36,\n",
       "         'pro_dem': 17,\n",
       "         'adj_num': 106,\n",
       "         'adj_dem': 3,\n",
       "         'pro_per': 46,\n",
       "         'ver_sup': 258,\n",
       "         'art_ind': 4,\n",
       "         'adj_pos': 14,\n",
       "         'pro_pos': 15,\n",
       "         'adj_int': 4})"
      ]
     },
     "execution_count": 67,
     "metadata": {},
     "output_type": "execute_result"
    }
   ],
   "source": [
    "# Chercher type de mots utilisés dans les dictionnaires grec, néerlandais, etc...\n",
    "\n",
    "file2 = open(\"iramuteq/lexique_fr.txt\", \"r\")\n",
    "words2 = file2.readlines()\n",
    "file2.close()\n",
    "\n",
    "categories = []\n",
    "\n",
    "for word in words2:\n",
    "    splits = word.split(\"\\t\")\n",
    "    categories.append(splits[2].rstrip())\n",
    "    \n",
    "Counter(categories)"
   ]
  },
  {
   "cell_type": "code",
   "execution_count": 68,
   "metadata": {},
   "outputs": [],
   "source": [
    "# Création du dictionnaire:\n",
    "\n",
    "dictDE_FR = {\n",
    "    \"SUB\": \"nom\",\n",
    "    \"ADJ\": \"adj\",\n",
    "    \"EIG\": \"nom\", # Pays\n",
    "    \"VER\": \"ver\",\n",
    "    \"ADV\": \"adv\",\n",
    "    \"KON\": \"con\",\n",
    "    \"ABK\": \"adv\", # Abréviation\n",
    "    \"PRP\": \"pre\", # prépositions\n",
    "    \"PA1\": \"adj\", # adjectif déclinés\n",
    "    \"ZUS\": \"adv\",\n",
    "    \"PA2\": \"adj\",\n",
    "    \"INJ\": \"adv\",\n",
    "    \"ZAL\": \"num\",\n",
    "    \"PRO\": \"pro_per\",\n",
    "    \"ART\": \"art_ind\",\n",
    "    \"NEG\": \"pro_per\"\n",
    "}"
   ]
  },
  {
   "cell_type": "code",
   "execution_count": 86,
   "metadata": {},
   "outputs": [],
   "source": [
    "# Remplacer les catégorisations allemandes par celles d'Iramuteq\n",
    "# enlever duplicatas\n",
    "\n",
    "data = []\n",
    "set_ = {\"_\"}\n",
    "\n",
    "for word in words:\n",
    "    splits = word.split(\"\\t\")\n",
    "    if splits[0] == \"-\" or (splits[0] in set_):\n",
    "        continue\n",
    "    else:\n",
    "        set_.add(splits[0])\n",
    "    category = splits[2][:3]\n",
    "    splits[2] = dictDE_FR.get(category)\n",
    "    data.append(splits)"
   ]
  },
  {
   "cell_type": "code",
   "execution_count": 99,
   "metadata": {},
   "outputs": [
    {
     "data": {
      "text/plain": [
       "['Abkommandierungen', 'Abkommandierung', 'nom']"
      ]
     },
     "execution_count": 99,
     "metadata": {},
     "output_type": "execute_result"
    }
   ],
   "source": [
    "data[2457]"
   ]
  },
  {
   "cell_type": "code",
   "execution_count": 100,
   "metadata": {},
   "outputs": [],
   "source": [
    "# Exporter le tout dans un fichier txt\n",
    "PATH_TO_RESULT = \"iramuteq/lexique_de.txt\"\n",
    "result = open(PATH_TO_RESULT, \"w+\")\n",
    "\n",
    "for word in data:\n",
    "    result.write(word[0] + \"\\t\" + word[1] + \"\\t\" + word[2] + \"\\n\")\n",
    "\n",
    "result.close()"
   ]
  },
  {
   "cell_type": "code",
   "execution_count": null,
   "metadata": {},
   "outputs": [],
   "source": []
  }
 ],
 "metadata": {
  "kernelspec": {
   "display_name": "Python 3",
   "language": "python",
   "name": "python3"
  },
  "language_info": {
   "codemirror_mode": {
    "name": "ipython",
    "version": 3
   },
   "file_extension": ".py",
   "mimetype": "text/x-python",
   "name": "python",
   "nbconvert_exporter": "python",
   "pygments_lexer": "ipython3",
   "version": "3.6.5"
  }
 },
 "nbformat": 4,
 "nbformat_minor": 2
}
